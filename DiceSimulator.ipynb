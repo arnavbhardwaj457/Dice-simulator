{
 "cells": [
  {
   "cell_type": "code",
   "execution_count": null,
   "id": "0e15fb45-0622-4b1e-a289-dd1cdb5d1b47",
   "metadata": {},
   "outputs": [
    {
     "name": "stdout",
     "output_type": "stream",
     "text": [
      "this is a dice simulator\n",
      "----------\n",
      "|        |\n",
      "|0      0|\n",
      "|        |\n",
      "----------\n"
     ]
    },
    {
     "name": "stdin",
     "output_type": "stream",
     "text": [
      "press y to roll again y\n"
     ]
    },
    {
     "name": "stdout",
     "output_type": "stream",
     "text": [
      "----------\n",
      "|0      0|\n",
      "|   0    |\n",
      "|0      0|\n",
      "----------\n"
     ]
    },
    {
     "name": "stdin",
     "output_type": "stream",
     "text": [
      "press y to roll again y\n"
     ]
    },
    {
     "name": "stdout",
     "output_type": "stream",
     "text": [
      "----------\n",
      "|        |\n",
      "|   0    |\n",
      "|        |\n",
      "----------\n"
     ]
    },
    {
     "name": "stdin",
     "output_type": "stream",
     "text": [
      "press y to roll again y\n"
     ]
    },
    {
     "name": "stdout",
     "output_type": "stream",
     "text": [
      "----------\n",
      "|0      0|\n",
      "|0      0|\n",
      "|0      0|\n",
      "----------\n"
     ]
    },
    {
     "name": "stdin",
     "output_type": "stream",
     "text": [
      "press y to roll again y\n"
     ]
    },
    {
     "name": "stdout",
     "output_type": "stream",
     "text": [
      "----------\n",
      "|0      0|\n",
      "|0      0|\n",
      "|0      0|\n",
      "----------\n"
     ]
    },
    {
     "name": "stdin",
     "output_type": "stream",
     "text": [
      "press y to roll again y\n"
     ]
    },
    {
     "name": "stdout",
     "output_type": "stream",
     "text": [
      "----------\n",
      "|0      0|\n",
      "|        |\n",
      "|0      0|\n",
      "----------\n"
     ]
    },
    {
     "name": "stdin",
     "output_type": "stream",
     "text": [
      "press y to roll again y\n"
     ]
    },
    {
     "name": "stdout",
     "output_type": "stream",
     "text": [
      "----------\n",
      "|   0    |\n",
      "|   0    |\n",
      "|   0    |\n",
      "----------\n"
     ]
    }
   ],
   "source": [
    "import random\n",
    "print(\"this is a dice simulator\")\n",
    "x=\"y\"\n",
    "\n",
    "while x==\"y\":\n",
    "    number=random.randint(1,6)\n",
    "    \n",
    "    if number==1:\n",
    "        print(\"----------\")\n",
    "        print(\"|        |\")\n",
    "        print(\"|   0    |\")\n",
    "        print(\"|        |\")\n",
    "        print(\"----------\")\n",
    "    if number==2:\n",
    "        print(\"----------\")\n",
    "        print(\"|        |\")\n",
    "        print(\"|0      0|\")\n",
    "        print(\"|        |\")\n",
    "        print(\"----------\")\n",
    "    if number==3:\n",
    "        print(\"----------\")\n",
    "        print(\"|   0    |\")\n",
    "        print(\"|   0    |\")\n",
    "        print(\"|   0    |\")\n",
    "        print(\"----------\")\n",
    "    if number==4:\n",
    "        print(\"----------\")\n",
    "        print(\"|0      0|\")\n",
    "        print(\"|        |\")\n",
    "        print(\"|0      0|\")\n",
    "        print(\"----------\")\n",
    "    if number==5:\n",
    "        print(\"----------\")\n",
    "        print(\"|0      0|\")\n",
    "        print(\"|   0    |\")\n",
    "        print(\"|0      0|\")\n",
    "        print(\"----------\")\n",
    "    if number==6:\n",
    "        print(\"----------\")\n",
    "        print(\"|0      0|\")\n",
    "        print(\"|0      0|\")\n",
    "        print(\"|0      0|\")\n",
    "        print(\"----------\")\n",
    "    x=input(\"press y to roll again\")\n"
   ]
  },
  {
   "cell_type": "code",
   "execution_count": null,
   "id": "55d90e2d-16fd-4e79-8ccb-4dc0d1676518",
   "metadata": {},
   "outputs": [],
   "source": []
  }
 ],
 "metadata": {
  "kernelspec": {
   "display_name": "Python 3 (ipykernel)",
   "language": "python",
   "name": "python3"
  },
  "language_info": {
   "codemirror_mode": {
    "name": "ipython",
    "version": 3
   },
   "file_extension": ".py",
   "mimetype": "text/x-python",
   "name": "python",
   "nbconvert_exporter": "python",
   "pygments_lexer": "ipython3",
   "version": "3.12.5"
  }
 },
 "nbformat": 4,
 "nbformat_minor": 5
}
